{
 "cells": [
  {
   "cell_type": "code",
   "execution_count": 17,
   "metadata": {},
   "outputs": [
    {
     "name": "stdout",
     "output_type": "stream",
     "text": [
      "70 arrows remaining\n",
      "None\n",
      "attacking with power of 50\n",
      "None\n",
      "run really fast\n",
      "None\n"
     ]
    }
   ],
   "source": [
    "class User(object):\n",
    "    def __init__(self,email):\n",
    "        self.email = email\n",
    "        print(\"init complete\")\n",
    "        \n",
    "    def sign_in(self):\n",
    "        print(\"logged in\")\n",
    "        \n",
    "        #multiple inheritance\n",
    "class Wizard(User):\n",
    "    def __init__(self,name,power):\n",
    "        self.name = name\n",
    "        self.power = power\n",
    "        \n",
    "    def attack(self):\n",
    "        print(f'attacking with power of {self.power}')\n",
    "        \n",
    "class Archer(User):\n",
    "    def __init__ (self,name,arrows):\n",
    "        self.name = name\n",
    "        self.arrows = arrows\n",
    "        \n",
    "        \n",
    "    def check_arrows(self):\n",
    "        print(f'{self.arrows} arrows remaining')\n",
    "        \n",
    "    def run(self):\n",
    "        print(\"run really fast\")\n",
    "\n",
    "        \n",
    "class Hybrid(Wizard, Archer):\n",
    "    def __init__(self,name,power,arrows):\n",
    "        Archer.__init__(self, name, arrows)\n",
    "        Wizard.__init__(self,name,power)\n",
    "        \n",
    "hb1 = Hybrid('kami',50, 70)\n",
    "print(hb1.check_arrows())\n",
    "print(hb1.attack())\n",
    "print(hb1.run())"
   ]
  },
  {
   "cell_type": "code",
   "execution_count": null,
   "metadata": {},
   "outputs": [],
   "source": []
  }
 ],
 "metadata": {
  "kernelspec": {
   "display_name": "Python 3",
   "language": "python",
   "name": "python3"
  },
  "language_info": {
   "codemirror_mode": {
    "name": "ipython",
    "version": 3
   },
   "file_extension": ".py",
   "mimetype": "text/x-python",
   "name": "python",
   "nbconvert_exporter": "python",
   "pygments_lexer": "ipython3",
   "version": "3.8.5"
  }
 },
 "nbformat": 4,
 "nbformat_minor": 4
}
